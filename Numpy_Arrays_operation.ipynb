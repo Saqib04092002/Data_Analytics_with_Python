{
 "cells": [
  {
   "cell_type": "code",
   "execution_count": 3,
   "id": "ae1581ba-8c19-4b12-a8bf-74a6fae0bc08",
   "metadata": {},
   "outputs": [],
   "source": [
    "import numpy as np"
   ]
  },
  {
   "cell_type": "code",
   "execution_count": 34,
   "id": "5c1caddf",
   "metadata": {},
   "outputs": [
    {
     "name": "stdout",
     "output_type": "stream",
     "text": [
      "[10 20 30]\n",
      "<class 'numpy.ndarray'>\n"
     ]
    }
   ],
   "source": [
    "arr = np.array([10,20,30,40])\n",
    "print(arr[0:3])\n",
    "print(type(arr))\n"
   ]
  },
  {
   "cell_type": "code",
   "execution_count": 39,
   "id": "44f96ff3",
   "metadata": {},
   "outputs": [
    {
     "name": "stdout",
     "output_type": "stream",
     "text": [
      "[[10 20 30]\n",
      " [50 60 70]]\n",
      "[20 30]\n",
      "[60 70]\n"
     ]
    }
   ],
   "source": [
    "arr2d = np.array([[10,20,30,40],[50,60,70,80]])\n",
    "print(arr2d[0:3,0:3])\n",
    "print(arr2d[0,1:3])\n",
    "print(arr2d[1,1:3])"
   ]
  },
  {
   "cell_type": "code",
   "execution_count": 51,
   "id": "1fa9e7ff",
   "metadata": {},
   "outputs": [
    {
     "name": "stdout",
     "output_type": "stream",
     "text": [
      "(2, 4)\n",
      "8\n",
      "2\n",
      "int64\n",
      "2\n",
      "[10. 20. 30. 40.]\n",
      "<class 'numpy.ndarray'>\n"
     ]
    }
   ],
   "source": [
    "print(np.shape(arr2d)) # rows and columns\n",
    "print(np.size(arr2d))\n",
    "print(np.ndim(arr2d))\n",
    "print(arr2d.dtype)#datatype of array\n",
    "print(len(arr2d))#number of nested values\n",
    "print(arr.astype(float))#Conversion of datatype in array\n",
    "print(type(arr)) # datatype of variable\n"
   ]
  },
  {
   "cell_type": "markdown",
   "id": "567869c7",
   "metadata": {},
   "source": [
    "# Mathematical Operations and Function on Arrays"
   ]
  },
  {
   "cell_type": "code",
   "execution_count": 6,
   "id": "c05262dc",
   "metadata": {},
   "outputs": [
    {
     "name": "stdout",
     "output_type": "stream",
     "text": [
      "[60 60 70 40 30]\n",
      "[60 60 70 40 30]\n"
     ]
    }
   ],
   "source": [
    "arr1 = np.array([30,40,60,20,10])\n",
    "arr2 = np.array([30,20,10,20,20])\n",
    "print(arr1+arr2)\n",
    "print(np.add(arr1,arr2))"
   ]
  },
  {
   "cell_type": "code",
   "execution_count": 7,
   "id": "ffbce1b6",
   "metadata": {},
   "outputs": [
    {
     "name": "stdout",
     "output_type": "stream",
     "text": [
      "[  0  20  50   0 -10]\n",
      "[  0  20  50   0 -10]\n"
     ]
    }
   ],
   "source": [
    "arr1 = np.array([30,40,60,20,10])\n",
    "arr2 = np.array([30,20,10,20,20])\n",
    "print(arr1-arr2)\n",
    "print(np.subtract(arr1,arr2))"
   ]
  },
  {
   "cell_type": "code",
   "execution_count": 8,
   "id": "2f5a54c4",
   "metadata": {},
   "outputs": [
    {
     "name": "stdout",
     "output_type": "stream",
     "text": [
      "[900 800 600 400 200]\n",
      "[900 800 600 400 200]\n"
     ]
    }
   ],
   "source": [
    "arr1 = np.array([30,40,60,20,10])\n",
    "arr2 = np.array([30,20,10,20,20])\n",
    "print(arr1*arr2)\n",
    "print(np.multiply(arr1,arr2))"
   ]
  },
  {
   "cell_type": "code",
   "execution_count": 9,
   "id": "03bb6153",
   "metadata": {},
   "outputs": [
    {
     "name": "stdout",
     "output_type": "stream",
     "text": [
      "[1.  2.  6.  1.  0.5]\n",
      "[1.  2.  6.  1.  0.5]\n"
     ]
    }
   ],
   "source": [
    "arr1 = np.array([30,40,60,20,10])\n",
    "arr2 = np.array([30,20,10,20,20])\n",
    "print(arr1/arr2)\n",
    "print(np.divide(arr1,arr2))"
   ]
  },
  {
   "cell_type": "code",
   "execution_count": 12,
   "id": "e3a99df5",
   "metadata": {},
   "outputs": [
    {
     "name": "stdout",
     "output_type": "stream",
     "text": [
      "[ 9 16  4  1]\n"
     ]
    }
   ],
   "source": [
    "arr1 = np.array([3,4,2,1])\n",
    "arr2 = np.array([2])\n",
    "print(np.power(arr1,arr2))"
   ]
  },
  {
   "cell_type": "code",
   "execution_count": 17,
   "id": "5a16bb5f",
   "metadata": {},
   "outputs": [
    {
     "name": "stdout",
     "output_type": "stream",
     "text": [
      "[3. 4. 2. 1.]\n"
     ]
    }
   ],
   "source": [
    "arr1 = np.array([ 9,16,4,1])\n",
    "print(np.sqrt(arr1))"
   ]
  },
  {
   "cell_type": "markdown",
   "id": "c507ffb1",
   "metadata": {},
   "source": [
    "# Combining and Splitting Arrays"
   ]
  },
  {
   "cell_type": "code",
   "execution_count": 21,
   "id": "a0d15290",
   "metadata": {},
   "outputs": [
    {
     "name": "stdout",
     "output_type": "stream",
     "text": [
      "[30 40 50  5  5  3]\n"
     ]
    }
   ],
   "source": [
    "# Concatenate\n",
    "arr1 = np.array([30,40,50])\n",
    "arr2 = np.array([5,5,3])\n",
    "print(np.concatenate([arr1,arr2]))"
   ]
  },
  {
   "cell_type": "code",
   "execution_count": 25,
   "id": "aa042a33",
   "metadata": {},
   "outputs": [
    {
     "name": "stdout",
     "output_type": "stream",
     "text": [
      "[[30 40  5  5]\n",
      " [50 10  3  3]]\n",
      "[[30 40]\n",
      " [50 10]\n",
      " [ 5  5]\n",
      " [ 3  3]]\n"
     ]
    }
   ],
   "source": [
    "arr1 = np.array([[30,40],[50,10]])\n",
    "arr2 = np.array([[5,5],[3,3]])\n",
    "print(np.concatenate([arr1,arr2],axis = 1))\n",
    "print(np.concatenate([arr1,arr2],axis = 0))"
   ]
  },
  {
   "cell_type": "code",
   "execution_count": 26,
   "id": "49d3fd15",
   "metadata": {},
   "outputs": [
    {
     "name": "stdout",
     "output_type": "stream",
     "text": [
      "[[30 40  5  5]\n",
      " [50 10  3  3]]\n"
     ]
    }
   ],
   "source": [
    "print(np.hstack([arr1,arr2])) #horizontal Concatenation"
   ]
  },
  {
   "cell_type": "code",
   "execution_count": 28,
   "id": "d433dad5",
   "metadata": {},
   "outputs": [
    {
     "name": "stdout",
     "output_type": "stream",
     "text": [
      "[[30 40]\n",
      " [50 10]\n",
      " [ 5  5]\n",
      " [ 3  3]]\n"
     ]
    }
   ],
   "source": [
    "print(np.vstack([arr1,arr2]))#vertical Concatenation"
   ]
  },
  {
   "cell_type": "code",
   "execution_count": 35,
   "id": "651aa762",
   "metadata": {},
   "outputs": [
    {
     "name": "stdout",
     "output_type": "stream",
     "text": [
      "[array([20, 40, 30]), array([40, 10, 20])]\n"
     ]
    }
   ],
   "source": [
    "a = np.array([20,40,30,40,10,20])\n",
    "b = np.array_split(a,2)\n",
    "print(b)"
   ]
  },
  {
   "cell_type": "markdown",
   "id": "b948faa1",
   "metadata": {},
   "source": [
    "# Adding and removing Element in the arrays."
   ]
  },
  {
   "cell_type": "code",
   "execution_count": null,
   "id": "419d9862",
   "metadata": {},
   "outputs": [
    {
     "name": "stdout",
     "output_type": "stream",
     "text": [
      "[20 40 60 80 90]\n",
      "[20 40 60 80 90]\n",
      "[20 50 40 60 80]\n"
     ]
    }
   ],
   "source": [
    "import numpy as np\n",
    "a = np.array([20,40,60,80])\n",
    "b = np.array([[20,40],[60,80]])\n",
    "print(np.append(a,90))\n",
    "print(np.append(b,90))\n"
   ]
  },
  {
   "cell_type": "code",
   "execution_count": 3,
   "id": "554741c0",
   "metadata": {},
   "outputs": [
    {
     "name": "stdout",
     "output_type": "stream",
     "text": [
      "[20 50 40 60 80]\n",
      "[[20 40]\n",
      " [50 60]\n",
      " [60 80]]\n"
     ]
    }
   ],
   "source": [
    "print(np.insert(a,1,50))  # array,index,value\n",
    "print(np.insert(b,1,[50,60],axis = 0))"
   ]
  },
  {
   "cell_type": "code",
   "execution_count": 12,
   "id": "9f137d38",
   "metadata": {},
   "outputs": [
    {
     "name": "stdout",
     "output_type": "stream",
     "text": [
      "[20 60 80]\n",
      "[[20]\n",
      " [60]]\n"
     ]
    }
   ],
   "source": [
    "print(np.delete(a,1))\n",
    "print(np.delete(b,1,axis=1))"
   ]
  },
  {
   "cell_type": "markdown",
   "id": "5e261cc6",
   "metadata": {},
   "source": [
    "-> Numpy - Sort,Filter and Search"
   ]
  },
  {
   "cell_type": "code",
   "execution_count": 15,
   "id": "0a2c03e3",
   "metadata": {},
   "outputs": [
    {
     "name": "stdout",
     "output_type": "stream",
     "text": [
      "[ 4  7  8  9 12]\n",
      "[[ 4  7  8  9 12]\n",
      " [ 1  2  3  5  8]]\n"
     ]
    }
   ],
   "source": [
    "ar = np.array([7,8,9,4,12])\n",
    "ar2 = np.array([[7,8,9,4,12],[2,8,5,1,3]])\n",
    "print(np.sort(ar))\n",
    "print(np.sort(ar2))"
   ]
  },
  {
   "cell_type": "code",
   "execution_count": 22,
   "id": "5b06b6ed",
   "metadata": {},
   "outputs": [
    {
     "name": "stdout",
     "output_type": "stream",
     "text": [
      "4\n"
     ]
    }
   ],
   "source": [
    "#Search\n",
    "ar = np.array([1,2,3,4,5])\n",
    "s = np.where(ar%2==0)\n",
    "ss = np.searchsorted(ar,5)\n",
    "print(ss)"
   ]
  },
  {
   "cell_type": "code",
   "execution_count": 28,
   "id": "7fe5a1c7",
   "metadata": {},
   "outputs": [
    {
     "name": "stdout",
     "output_type": "stream",
     "text": [
      "[20 30 40 50]\n"
     ]
    }
   ],
   "source": [
    "# Filter\n",
    "ar = np.array([20,30,40,50])\n",
    "\n",
    "fa = [True,False,True,False]\n",
    "#new = ar[fa]\n",
    "#print(new)\n",
    "\n",
    "#fa = ar>35\n",
    "#new = ar[fa]\n",
    "#print(new)\n",
    "\n",
    "fa = ar%2==0\n",
    "new = ar[fa]\n",
    "print(new)"
   ]
  },
  {
   "cell_type": "markdown",
   "id": "e34af502",
   "metadata": {},
   "source": [
    "Aggregating Function in Numpy"
   ]
  },
  {
   "cell_type": "code",
   "execution_count": 37,
   "id": "5f71706e",
   "metadata": {},
   "outputs": [
    {
     "name": "stdout",
     "output_type": "stream",
     "text": [
      "190\n",
      "20\n",
      "70\n",
      "4\n",
      "47.5\n",
      "[ 20  60 120 190]\n",
      "[     20     800   48000 3360000]\n"
     ]
    }
   ],
   "source": [
    "import numpy as np\n",
    "a = np.array([20,40,60,70])\n",
    "\n",
    "print(np.sum(a))\n",
    "\n",
    "print(np.min(a))\n",
    "\n",
    "print(np.max(a))\n",
    "\n",
    "print(np.size(a))\n",
    "\n",
    "print(np.mean(a))\n",
    "\n",
    "print(np.cumsum(a))\n",
    "\n",
    "print(np.cumprod(a))"
   ]
  },
  {
   "cell_type": "code",
   "execution_count": 53,
   "id": "d8fa9486",
   "metadata": {},
   "outputs": [
    {
     "name": "stdout",
     "output_type": "stream",
     "text": [
      "[100 150 199 200 250 130] \n",
      " [10 50 30 40 30 10]\n",
      "31270\n"
     ]
    }
   ],
   "source": [
    "a  = [100,150,199,200,250,130]\n",
    "b = [10,50,30,40,30,10]\n",
    "\n",
    "price = np.array(a)\n",
    "quantity = np.array(b)\n",
    "\n",
    "print(price,\"\\n\",quantity)\n",
    "\n",
    "c = np.cumprod([price,quantity],axis=0)\n",
    "\n",
    "print(sum(c[1]))\n"
   ]
  },
  {
   "cell_type": "markdown",
   "id": "d510cbb3",
   "metadata": {},
   "source": [
    "STATISTICAL FUNCTIONS NUMPY"
   ]
  },
  {
   "cell_type": "code",
   "execution_count": 60,
   "id": "bf509394",
   "metadata": {},
   "outputs": [
    {
     "name": "stdout",
     "output_type": "stream",
     "text": [
      "202.25\n",
      "194.0\n",
      "200\n",
      "55.68157235567257\n",
      "3100.4375\n"
     ]
    }
   ],
   "source": [
    "import numpy as np\n",
    "import statistics as ststs\n",
    "\n",
    "baked_food = [200,300,150,130,200,280,170,188]\n",
    "\n",
    "a = np.array(baked_food)\n",
    "# MEAN\n",
    "print(np.mean(a)) # Sum of all the value/number of value\n",
    "\n",
    "# MEDIAN\n",
    "print(np.median(a)) # Central value after sorting\n",
    "\n",
    "# MODE\n",
    "print(ststs.mode(a)) # \n",
    "\n",
    "# STANDARD DEVIATION\n",
    "print(np.std(a))\n",
    "\n",
    "# Varience\n",
    "print(np.var(a))"
   ]
  },
  {
   "cell_type": "code",
   "execution_count": null,
   "id": "64863604",
   "metadata": {},
   "outputs": [
    {
     "name": "stdout",
     "output_type": "stream",
     "text": [
      "[[1.         0.99015454]\n",
      " [0.99015454 1.        ]]\n"
     ]
    }
   ],
   "source": [
    "# COFFICIENT OF CORELATION\n",
    "# -1 - Represent inversely proportional relationship\n",
    "# +1 - Represent proportional relationship\n",
    "# 0 - means no relationship\n",
    "tobacco_consumtion = [30,50,10,30,50,40]\n",
    "deaths = [100,120,70,100,120,112]\n",
    "\n",
    "print(np.corrcoef([tobacco_consumtion,deaths]))"
   ]
  }
 ],
 "metadata": {
  "kernelspec": {
   "display_name": "Python 3",
   "language": "python",
   "name": "python3"
  },
  "language_info": {
   "codemirror_mode": {
    "name": "ipython",
    "version": 3
   },
   "file_extension": ".py",
   "mimetype": "text/x-python",
   "name": "python",
   "nbconvert_exporter": "python",
   "pygments_lexer": "ipython3",
   "version": "3.13.1"
  }
 },
 "nbformat": 4,
 "nbformat_minor": 5
}
